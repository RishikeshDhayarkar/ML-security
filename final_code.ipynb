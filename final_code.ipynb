{
  "nbformat": 4,
  "nbformat_minor": 0,
  "metadata": {
    "colab": {
      "name": "final_code.ipynb",
      "provenance": [],
      "collapsed_sections": [],
      "machine_shape": "hm"
    },
    "kernelspec": {
      "name": "python3",
      "display_name": "Python 3"
    }
  },
  "cells": [
    {
      "cell_type": "markdown",
      "metadata": {
        "id": "CsWQTCD1LZWT"
      },
      "source": [
        "Our approach is RAM intensive, so the input data should be less than 1000 images."
      ]
    },
    {
      "cell_type": "code",
      "metadata": {
        "id": "TWpv9ocm0kDR",
        "colab": {
          "base_uri": "https://localhost:8080/",
          "height": 0
        },
        "outputId": "378b34ed-4269-4aef-e500-e50063da66c4"
      },
      "source": [
        "from google.colab import drive\r\n",
        "drive.mount('/content/drive')"
      ],
      "execution_count": 13,
      "outputs": [
        {
          "output_type": "stream",
          "text": [
            "Drive already mounted at /content/drive; to attempt to forcibly remount, call drive.mount(\"/content/drive\", force_remount=True).\n"
          ],
          "name": "stdout"
        }
      ]
    },
    {
      "cell_type": "code",
      "metadata": {
        "id": "uHSy4cWV0lJN",
        "colab": {
          "base_uri": "https://localhost:8080/",
          "height": 0
        },
        "outputId": "5feea2b2-75b4-431d-d96d-92badfc81ab7"
      },
      "source": [
        "%cd /content/drive/MyDrive/CSAW-HackML-2020-master_new"
      ],
      "execution_count": 14,
      "outputs": [
        {
          "output_type": "stream",
          "text": [
            "/content/drive/MyDrive/CSAW-HackML-2020-master_new\n"
          ],
          "name": "stdout"
        }
      ]
    },
    {
      "cell_type": "code",
      "metadata": {
        "id": "1Ok_gQzD4-_3"
      },
      "source": [
        "import keras\r\n",
        "import sys\r\n",
        "import h5py\r\n",
        "import numpy as np\r\n",
        "from PIL import Image\r\n",
        "import numpy as np\r\n",
        "from collections import Counter\r\n",
        "from statistics import mode,median\r\n",
        "from sklearn.metrics import confusion_matrix"
      ],
      "execution_count": 15,
      "outputs": []
    },
    {
      "cell_type": "code",
      "metadata": {
        "id": "wCocrMJB4-8c"
      },
      "source": [
        "def data_loader(filepath):\r\n",
        "    data = h5py.File(filepath, 'r')\r\n",
        "    x_data = np.array(data['data'])\r\n",
        "    y_data = np.array(data['label'])\r\n",
        "    x_data = x_data.transpose((0,2,3,1))\r\n",
        "    return x_data, y_data\r\n",
        "\r\n",
        "def data_preprocess(x_data):\r\n",
        "    return x_data/255 "
      ],
      "execution_count": 16,
      "outputs": []
    },
    {
      "cell_type": "code",
      "metadata": {
        "id": "iDknMMIv4-5x"
      },
      "source": [
        "bd_model = keras.models.load_model('models/sunglasses_bd_net.h5')"
      ],
      "execution_count": 17,
      "outputs": []
    },
    {
      "cell_type": "code",
      "metadata": {
        "id": "ErhdMIqx6Ijr"
      },
      "source": [
        "x, y_clean = data_loader('data/clean_validation_data.h5')"
      ],
      "execution_count": 18,
      "outputs": []
    },
    {
      "cell_type": "code",
      "metadata": {
        "colab": {
          "base_uri": "https://localhost:8080/",
          "height": 0
        },
        "id": "bUuYFtPpERE1",
        "outputId": "8efcdf58-4ac9-4681-c9cc-71207d65322b"
      },
      "source": [
        "bs = 100\r\n",
        "\r\n",
        "all_x_cleans = []\r\n",
        "for i in range((x.shape[0])//bs):\r\n",
        "    all_x_cleans.append(data_preprocess(x[i*bs : i*bs + bs]))\r\n",
        "\r\n",
        "\r\n",
        "\r\n",
        "all_x_cleans.append(x[(x.shape[0]//bs)*100:])    \r\n",
        "\r\n",
        "X_clean = np.concatenate(all_x_cleans, axis=0)\r\n",
        "X_clean.shape"
      ],
      "execution_count": 19,
      "outputs": [
        {
          "output_type": "execute_result",
          "data": {
            "text/plain": [
              "(11547, 55, 47, 3)"
            ]
          },
          "metadata": {
            "tags": []
          },
          "execution_count": 19
        }
      ]
    },
    {
      "cell_type": "code",
      "metadata": {
        "id": "aeBdiRf_5NxL"
      },
      "source": [
        "x, y_poison = data_loader('data/sunglasses_poisoned_data.h5')"
      ],
      "execution_count": 20,
      "outputs": []
    },
    {
      "cell_type": "code",
      "metadata": {
        "colab": {
          "base_uri": "https://localhost:8080/",
          "height": 0
        },
        "id": "IEo9O_J2HM38",
        "outputId": "bd652fba-7a76-4aa5-a469-db3696746527"
      },
      "source": [
        "bs = 100\r\n",
        "\r\n",
        "all_x_poisons = []\r\n",
        "for i in range((x.shape[0])//bs):\r\n",
        "    all_x_poisons.append(data_preprocess(x[i*bs : i*bs + bs]))\r\n",
        "\r\n",
        "all_x_poisons.append(x[(x.shape[0]//bs)*100:])    \r\n",
        "\r\n",
        "X_poison = np.concatenate(all_x_poisons, axis=0)\r\n",
        "X_poison.shape"
      ],
      "execution_count": 21,
      "outputs": [
        {
          "output_type": "execute_result",
          "data": {
            "text/plain": [
              "(12830, 55, 47, 3)"
            ]
          },
          "metadata": {
            "tags": []
          },
          "execution_count": 21
        }
      ]
    },
    {
      "cell_type": "markdown",
      "metadata": {
        "id": "jlK2ANWSaVJh"
      },
      "source": [
        "<h2>First part</h2>"
      ]
    },
    {
      "cell_type": "code",
      "metadata": {
        "id": "Oc5xmFMFtNHR"
      },
      "source": [
        "img_wt_1 = 0.50\r\n",
        "img_wt_2 = 0.50\r\n",
        "num_pert = 50\r\n",
        "samples = 1000\r\n",
        "samples_poisoned = 1000"
      ],
      "execution_count": 22,
      "outputs": []
    },
    {
      "cell_type": "markdown",
      "metadata": {
        "id": "6L0jvSWjYx3p"
      },
      "source": [
        "Function for combining two images to generate perturbed images."
      ]
    },
    {
      "cell_type": "code",
      "metadata": {
        "id": "S2PhqTNj9sKX"
      },
      "source": [
        "import cv2\r\n",
        "def combine(img1,img2):\r\n",
        "    img1 = img1.astype('float32')\r\n",
        "    img2 = img2.astype('float32')\r\n",
        "\r\n",
        "    return cv2.addWeighted(img1, img_wt_1, img2, img_wt_2, 0)"
      ],
      "execution_count": 23,
      "outputs": []
    },
    {
      "cell_type": "code",
      "metadata": {
        "id": "RKmcZPpxVcCC"
      },
      "source": [
        "def random_samples(X):\r\n",
        "    return X[np.random.randint(0,len(X))]"
      ],
      "execution_count": 24,
      "outputs": []
    },
    {
      "cell_type": "code",
      "metadata": {
        "id": "P4efXzWrCk6H"
      },
      "source": [
        "data = X_clean[0:samples]"
      ],
      "execution_count": 25,
      "outputs": []
    },
    {
      "cell_type": "code",
      "metadata": {
        "id": "3OLijgghCROc"
      },
      "source": [
        "combined_five = []\r\n",
        "\r\n",
        "for x in data:\r\n",
        "    rand_idx = []\r\n",
        "    for i in range(num_pert):\r\n",
        "        rand_idx.append(np.random.randint(0, len(X_clean)))\r\n",
        "\r\n",
        "    for idx in rand_idx:\r\n",
        "        combined_five.append(combine(x, X_clean[idx]))"
      ],
      "execution_count": 26,
      "outputs": []
    },
    {
      "cell_type": "code",
      "metadata": {
        "id": "LP0VMqHef_Ue"
      },
      "source": [
        "all_outs = []\r\n",
        "bs = 100\r\n",
        "\r\n",
        "for i in range(0,int(len(combined_five)/bs)):\r\n",
        "    combined_five_np = np.array(combined_five[i*bs:i*bs + bs])\r\n",
        "    all_outs.append(bd_model(combined_five_np))\r\n",
        "\r\n",
        "res_max = np.concatenate(all_outs, axis=0 )\r\n",
        "res_max_argmax = np.argmax(res_max, axis=1)\r\n",
        "\r\n",
        "k = []\r\n",
        "for i in range(samples):\r\n",
        "    k.append(Counter(res_max_argmax[i*num_pert:(i+1)*num_pert]))\r\n",
        "\r\n",
        "\r\n",
        "a = []\r\n",
        "for i in k:\r\n",
        "    max_res = 0\r\n",
        "    for key in i:\r\n",
        "        max_res = max(max_res, i[key])\r\n",
        "    a.append(max_res)\r\n",
        "\r\n",
        "p = np.percentile(a,96)    "
      ],
      "execution_count": 27,
      "outputs": []
    },
    {
      "cell_type": "markdown",
      "metadata": {
        "id": "aOzly_SuByJt"
      },
      "source": [
        "<h2>second part</h2>\r\n"
      ]
    },
    {
      "cell_type": "code",
      "metadata": {
        "id": "0OZtaHwxDvRw"
      },
      "source": [
        "# To our program, we created a test dataset of size 2000 with 1000 clean and poisoned data each. Replace data with your own dataset\r\n",
        "\r\n",
        "data = np.concatenate((X_clean[:samples],X_poison[:samples_poisoned]))\r\n",
        "labels = np.concatenate((np.ones(samples),np.zeros(samples_poisoned)))  # 1 if clean, 0 if poisoned\r\n",
        "\r\n",
        "# Actual labels with N+1 class\r\n",
        "temp = 1283*np.ones(samples_poisoned)\r\n",
        "true_labels = np.concatenate((y_clean[:samples],temp))"
      ],
      "execution_count": 28,
      "outputs": []
    },
    {
      "cell_type": "code",
      "metadata": {
        "id": "uTGOTSwOXBIY"
      },
      "source": [
        ""
      ],
      "execution_count": 28,
      "outputs": []
    },
    {
      "cell_type": "code",
      "metadata": {
        "id": "rAJHD3S6CzO7"
      },
      "source": [
        "combined_five = []\r\n",
        "\r\n",
        "for x in data:\r\n",
        "    rand_idx = []\r\n",
        "    for i in range(num_pert):\r\n",
        "        rand_idx.append(np.random.randint(0, len(X_clean)))    \r\n",
        "\r\n",
        "    for idx in rand_idx:\r\n",
        "        combined_five.append(combine(x, X_clean[idx]))"
      ],
      "execution_count": 29,
      "outputs": []
    },
    {
      "cell_type": "code",
      "metadata": {
        "id": "Ouw8IQeKEvlA"
      },
      "source": [
        "all_outs = []\r\n",
        "bs = 100\r\n",
        "\r\n",
        "for i in range(0,int(len(combined_five)/bs)):\r\n",
        "    combined_five_np = np.array(combined_five[i*bs:i*bs + bs])\r\n",
        "    all_outs.append(bd_model(combined_five_np))\r\n",
        "\r\n",
        "res_max = np.concatenate(all_outs, axis=0 )\r\n",
        "res_max_argmax = np.argmax(res_max, axis=1)\r\n",
        "\r\n",
        "k = []\r\n",
        "for i in range(len(data)):\r\n",
        "    k.append(Counter(res_max_argmax[i*num_pert:(i+1)*num_pert]))\r\n",
        "\r\n",
        "\r\n",
        "a = []\r\n",
        "for i in k:\r\n",
        "    max_res = 0\r\n",
        "    for key in i:\r\n",
        "        max_res = max(max_res, i[key])\r\n",
        "    a.append(max_res)"
      ],
      "execution_count": 30,
      "outputs": []
    },
    {
      "cell_type": "code",
      "metadata": {
        "id": "wt954Y3Z5guQ",
        "colab": {
          "base_uri": "https://localhost:8080/",
          "height": 0
        },
        "outputId": "9b52af66-862b-4e61-ce2d-0ecc6c4e2467"
      },
      "source": [
        "y_pred = []\r\n",
        "for i in range((len(data))):\r\n",
        "    if a[i] > p:\r\n",
        "        y_pred.append(0)\r\n",
        "    else:\r\n",
        "        y_pred.append(1)\r\n",
        "\r\n",
        "\r\n",
        "temp = 0\r\n",
        "for i in range(len(data)):\r\n",
        "    if labels[i] == y_pred[i]:\r\n",
        "            temp += 1\r\n",
        "\r\n",
        "print(temp/(len(data)))\r\n",
        "\r\n",
        "# Accuracy for classifying inputs into poisoned and clean classes\r\n",
        "conf = confusion_matrix(labels,y_pred)\r\n",
        "print(conf)"
      ],
      "execution_count": 31,
      "outputs": [
        {
          "output_type": "stream",
          "text": [
            "0.9545\n",
            "[[946  54]\n",
            " [ 37 963]]\n"
          ],
          "name": "stdout"
        }
      ]
    },
    {
      "cell_type": "code",
      "metadata": {
        "id": "tQcoh-0k7un3",
        "colab": {
          "base_uri": "https://localhost:8080/",
          "height": 0
        },
        "outputId": "11bc2114-45ac-4824-b121-50dc4b621463"
      },
      "source": [
        "y_pred_actual = np.argmax(bd_model(data),axis=1)\r\n",
        "\r\n",
        "for i in range(len(data)):\r\n",
        "    if y_pred[i] == 0:\r\n",
        "        y_pred_actual[i] = 1283 \r\n",
        "\r\n",
        "temp = 0\r\n",
        "for i in range(len(data)):\r\n",
        "    if true_labels[i] == y_pred_actual[i]:\r\n",
        "            temp += 1\r\n",
        "\r\n",
        "# Accuracy for classifying inputs into all seperate clean classes(classes 0 to 1282) and poisoned inputs(class 1283)\r\n",
        "print(temp/(len(data)))  "
      ],
      "execution_count": 32,
      "outputs": [
        {
          "output_type": "stream",
          "text": [
            "0.943\n"
          ],
          "name": "stdout"
        }
      ]
    },
    {
      "cell_type": "markdown",
      "metadata": {
        "id": "g-3C32RzK0kk"
      },
      "source": [
        "FAR - False acceptance rate\r\n",
        "\r\n",
        "FRR - False rejection rate\r\n",
        "\r\n",
        "As we vary percentile from 95 to 99, FRR increases and FAR decreases. "
      ]
    },
    {
      "cell_type": "code",
      "metadata": {
        "colab": {
          "base_uri": "https://localhost:8080/",
          "height": 0
        },
        "id": "ltS24IcJIGFt",
        "outputId": "9154f4de-cf29-45e8-8095-8f74ea9713f6"
      },
      "source": [
        "FRR = conf[0][1]/(conf[0][0] + conf[0][1])\r\n",
        "FAR = conf[1][0]/(conf[1][1] + conf[1][0])\r\n",
        "print(f'FRR = {FRR*100}%, FAR = {FAR*100}%')"
      ],
      "execution_count": 33,
      "outputs": [
        {
          "output_type": "stream",
          "text": [
            "FRR = 5.4%, FAR = 3.6999999999999997%\n"
          ],
          "name": "stdout"
        }
      ]
    },
    {
      "cell_type": "code",
      "metadata": {
        "colab": {
          "base_uri": "https://localhost:8080/",
          "height": 0
        },
        "id": "_komdKVXKYEG",
        "outputId": "07eff360-17d9-4dbb-c55f-9150fcc4702b"
      },
      "source": [
        "p"
      ],
      "execution_count": 34,
      "outputs": [
        {
          "output_type": "execute_result",
          "data": {
            "text/plain": [
              "25.0"
            ]
          },
          "metadata": {
            "tags": []
          },
          "execution_count": 34
        }
      ]
    },
    {
      "cell_type": "code",
      "metadata": {
        "id": "Sp68sXvkQpy2"
      },
      "source": [
        ""
      ],
      "execution_count": 34,
      "outputs": []
    }
  ]
}