{
  "nbformat": 4,
  "nbformat_minor": 0,
  "metadata": {
    "colab": {
      "name": "final_code_run.ipynb",
      "provenance": [],
      "collapsed_sections": []
    },
    "kernelspec": {
      "name": "python3",
      "display_name": "Python 3"
    }
  },
  "cells": [
    {
      "cell_type": "code",
      "metadata": {
        "colab": {
          "base_uri": "https://localhost:8080/"
        },
        "id": "AUrxvqj7htK3",
        "outputId": "e9e231ab-9f0b-4e89-fd28-127154b8a4cd"
      },
      "source": [
        "from google.colab import drive\r\n",
        "drive.mount('/content/drive')"
      ],
      "execution_count": 1,
      "outputs": [
        {
          "output_type": "stream",
          "text": [
            "Drive already mounted at /content/drive; to attempt to forcibly remount, call drive.mount(\"/content/drive\", force_remount=True).\n"
          ],
          "name": "stdout"
        }
      ]
    },
    {
      "cell_type": "code",
      "metadata": {
        "colab": {
          "base_uri": "https://localhost:8080/"
        },
        "id": "nGh4a1tqhtyk",
        "outputId": "e679811b-52c8-42df-dbd4-6bdd0b348245"
      },
      "source": [
        "%run -i '/content/drive/MyDrive/CSAW-HackML-2020-master_new/final_code.py' '/content/drive/MyDrive/CSAW-HackML-2020-master_new/data/clean_validation_data.h5' '/content/drive/MyDrive/CSAW-HackML-2020-master_new/models/sunglasses_bd_net.h5' '/content/drive/MyDrive/CSAW-HackML-2020-master_new/data/sunglasses_poisoned_data.h5'"
      ],
      "execution_count": 2,
      "outputs": [
        {
          "output_type": "stream",
          "text": [
            "0.951\n",
            "[[938  62]\n",
            " [ 36 964]]\n",
            "0.9395\n",
            "FRR = 6.2%, FAR = 3.5999999999999996%\n"
          ],
          "name": "stdout"
        }
      ]
    },
    {
      "cell_type": "code",
      "metadata": {
        "id": "q0qy7frZhxrE"
      },
      "source": [
        ""
      ],
      "execution_count": null,
      "outputs": []
    }
  ]
}